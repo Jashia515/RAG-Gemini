{
 "cells": [
  {
   "cell_type": "code",
   "execution_count": 14,
   "metadata": {},
   "outputs": [],
   "source": [
    "import streamlit as stlit\n",
    "from PyPDF2 import PdfReader \n",
    "from langchain.text_splitter import RecursiveCharacterTextSplitter as recur_split\n",
    "import os\n",
    "from langchain_google_genai import GoogleGenerativeAIEmbeddings as google_embeddings\n",
    "import google.generativeai as google_gen\n",
    "from langchain.vectorstores import FAISS as fais\n",
    "from langchain_google_genai import ChatGoogleGenerativeAI as llm_model\n",
    "from langchain.prompts import PromptTemplate\n",
    "from dotenv import load_dotenv as ld_env\n",
    "from langchain.tools.base import StructuredTool\n",
    "from langchain.chains import ConversationalRetrievalChain\n",
    "from langchain.memory import ConversationBufferMemory as conbuff\n",
    "from langchain.retrievers import ContextualCompressionRetriever as concom\n",
    "from langchain.retrievers.document_compressors import LLMChainExtractor as conllm\n",
    "from langchain.chains import RetrievalQA as rtrqa\n",
    "\n",
    "\n",
    "ld_env()\n",
    "os.getenv(\"GOOGLE_API_KEY\")\n",
    "google_gen.configure(api_key=os.getenv(\"GOOGLE_API_KEY\"))\n",
    "\n"
   ]
  },
  {
   "cell_type": "code",
   "execution_count": 15,
   "metadata": {},
   "outputs": [],
   "source": [
    "def extract_text(docs):\n",
    "    extracted_text = \"\"\n",
    "    for doc in docs:\n",
    "        doc_parser = PdfReader(doc)\n",
    "        doc_len = len(doc_parser.pages)\n",
    "        for p in range(doc_len):\n",
    "            p1 = doc_parser.pages[p]\n",
    "            extracted_text += p1.extract_text()\n",
    "    return extracted_text\n",
    "\n",
    "def generate_vectors(extracted_text):\n",
    "    chunks_split = recur_split(chunk_size=5000, chunk_overlap=1000)\n",
    "    chunks = chunks_split.split_text(extracted_text)\n",
    "    embeddings = google_embeddings(model = \"models/gemini-1.5-pro-latest\")\n",
    "    fais_vector_space = fais.from_texts(chunks, embedding=embeddings)\n",
    "    fais_vector_space.save_local(\"faiss_gemini_embeds\")\n",
    "\n"
   ]
  },
  {
   "cell_type": "code",
   "execution_count": 16,
   "metadata": {},
   "outputs": [],
   "source": [
    "def user_input(user_prompt):\n",
    "    prt_temp = \"\"\"\n",
    "    respond to the prompts based on the documents, if the right answer can be found give the relevant source document\n",
    "    {context} {prompt_question}\n",
    "    \"\"\"\n",
    "    model = llm_model(model=\"gemini-1.5-pro-latest\",\n",
    "                                temperature=0.6)\n",
    "    embeddings = google_embeddings(model = \"models/gemini-1.5-pro-latest\")\n",
    "    memory = conbuff(memory_key=\"chat_history\", return_messages=True)\n",
    "\n",
    "    fais_db =fais.load_local(\"faiss_index\", embeddings,allow_dangerous_deserialization=True)\n",
    "    fais_retriever = fais_db.as_retriever(score_threshold = 0.7)\n",
    "    compress_prompt = conllm.from_llm(model)\n",
    "    comp_rtr = concom(base_compressor=compress_prompt, base_retriever=fais_retriever)\n",
    "\n",
    "    compressed_relavent_docs = comp_rtr.get_relevant_documents(query=user_prompt)\n",
    "\n",
    "    intial_prompt= PromptTemplate(\n",
    "        template=prt_temp, input_variables=[\"context\", \"question\"]\n",
    "    )\n",
    "    chain_prompt_temp = {\"prompt_temp\": intial_prompt}\n",
    "    \n",
    "\n",
    "\n",
    "    chain = rtrqa.from_chain_type(llm=model,\n",
    "                                chain_type=\"map_reduce\",\n",
    "                                retriever=comp_rtr,\n",
    "                                input_key=\"query\",\n",
    "                                memory=memory,\n",
    "                                chain_type_kwargs=chain_prompt_temp)\n",
    "\n",
    "    stlit.write(\"Reply: \", chain(user_prompt)) "
   ]
  },
  {
   "cell_type": "code",
   "execution_count": 19,
   "metadata": {},
   "outputs": [],
   "source": [
    "def main():\n",
    "    stlit.set_page_config(\"customized Gemini pro \")\n",
    "    stlit.header(\"Ask your questions after uploading the pdf file\")\n",
    "\n",
    "    query = stlit.text_input(\"give prompts relevant to the pdf\")\n",
    "\n",
    "    if query:\n",
    "        user_input(query)\n",
    "\n",
    "    with stlit.sidebar:\n",
    "        stlit.title(\"documents uploading\")\n",
    "        user_docs = stlit.file_uploader(\"please upload the necessary documents you are interested in\")\n",
    "        if stlit.button(\"generate vectors\"):\n",
    "            with stlit.spinner(\"creating embeddings \"):\n",
    "                processed_text=extract_text(user_docs )\n",
    "                generate_vectors( processed_text)\n",
    "                stlit.success(\"you can now ask the questions or upload another file\")\n"
   ]
  },
  {
   "cell_type": "code",
   "execution_count": null,
   "metadata": {},
   "outputs": [],
   "source": [
    "if __name__ == \"__main__\":\n",
    "    main()"
   ]
  },
  {
   "cell_type": "code",
   "execution_count": 18,
   "metadata": {},
   "outputs": [
    {
     "name": "stdout",
     "output_type": "stream",
     "text": [
      "^C\n"
     ]
    }
   ],
   "source": [
    "!streamlit run c:\\Users\\jashi\\anaconda3\\lib\\site-packages\\ipykernel_launcher.py"
   ]
  },
  {
   "cell_type": "code",
   "execution_count": null,
   "metadata": {},
   "outputs": [],
   "source": []
  }
 ],
 "metadata": {
  "kernelspec": {
   "display_name": "base",
   "language": "python",
   "name": "python3"
  },
  "language_info": {
   "codemirror_mode": {
    "name": "ipython",
    "version": 3
   },
   "file_extension": ".py",
   "mimetype": "text/x-python",
   "name": "python",
   "nbconvert_exporter": "python",
   "pygments_lexer": "ipython3",
   "version": "3.9.18"
  }
 },
 "nbformat": 4,
 "nbformat_minor": 2
}
